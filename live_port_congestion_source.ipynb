{
 "cells": [
  {
   "cell_type": "markdown",
   "id": "59a5f55e-3a2e-42c0-8b31-775e5bed753c",
   "metadata": {},
   "source": [
    "#### Ports congestion data fetcher"
   ]
  },
  {
   "cell_type": "code",
   "execution_count": 5,
   "id": "7ba13265-4409-4646-8cbd-5089f48a1a13",
   "metadata": {},
   "outputs": [],
   "source": [
    "import requests\n",
    "from bs4 import BeautifulSoup\n",
    "from time import time\n",
    "import pandas as pd"
   ]
  },
  {
   "cell_type": "code",
   "execution_count": 6,
   "id": "b8d34f1e-68dc-4a84-bb02-fde5971a5951",
   "metadata": {},
   "outputs": [],
   "source": [
    "all_congestion = []\n",
    "cache = set()"
   ]
  },
  {
   "cell_type": "code",
   "execution_count": 7,
   "id": "17e2db8c-fa26-4460-b8a8-584d1c1f6fa0",
   "metadata": {},
   "outputs": [
    {
     "data": {
      "text/plain": [
       "{'last_update': 1663445271.619471,\n",
       " 'congestion': [{'port': 'PTSIE', 'delay_days': '2'},\n",
       "  {'port': 'TZDAR', 'delay_days': '3'},\n",
       "  {'port': 'BEANR', 'delay_days': '2'},\n",
       "  {'port': 'PECLL', 'delay_days': '2'},\n",
       "  {'port': 'GHTEM', 'delay_days': '2'},\n",
       "  {'port': 'KRPUS', 'delay_days': '2'},\n",
       "  {'port': 'EGALY', 'delay_days': '0'},\n",
       "  {'port': 'LKCMB', 'delay_days': '1'},\n",
       "  {'port': 'ZADUR', 'delay_days': '3'},\n",
       "  {'port': 'SGSIN', 'delay_days': '1'},\n",
       "  {'port': 'SEHEL', 'delay_days': '11'},\n",
       "  {'port': 'SEGOT2', 'delay_days': '0'},\n",
       "  {'port': 'INNSA', 'delay_days': '1'},\n",
       "  {'port': 'USLGB', 'delay_days': '4'},\n",
       "  {'port': 'CNTAO', 'delay_days': '4'}]}"
      ]
     },
     "execution_count": 7,
     "metadata": {},
     "output_type": "execute_result"
    }
   ],
   "source": [
    "import requests\n",
    "from bs4 import BeautifulSoup\n",
    "from time import time\n",
    "all_congestion = []\n",
    "cache = set()\n",
    "r = requests.get('https://www.gocomet.com/real-time-port-congestion')\n",
    "soup = BeautifulSoup(r.content, 'html.parser')\n",
    "names = [n.text for n in soup.select('.styles__PortList-sc-1jqcogp-0')[0].select('.name')][1:]\n",
    "delays = [n.text for n in soup.select('.styles__PortList-sc-1jqcogp-0')[0].select('.delay')]\n",
    "congestion_data = [{\"port\": o[0].split(', ')[-1], \"delay_days\": o[1].split(' ')[0]} for o in list(zip(names, delays))]\n",
    "for c in congestion_data:\n",
    "    if c['port'] not in cache:\n",
    "        all_congestion.append(c)\n",
    "        cache.add(c['port'])\n",
    "results = {\"last_update\": time(), \"congestion\": all_congestion}\n",
    "results"
   ]
  },
  {
   "cell_type": "code",
   "execution_count": null,
   "id": "320dfaa3-151d-4d10-bd5c-c8ebbdfce161",
   "metadata": {},
   "outputs": [],
   "source": []
  },
  {
   "cell_type": "code",
   "execution_count": null,
   "id": "76a4cf7c-b6cd-49fd-b44f-d21da4aebb4f",
   "metadata": {},
   "outputs": [],
   "source": []
  }
 ],
 "metadata": {
  "kernelspec": {
   "display_name": "Python 3 (ipykernel)",
   "language": "python",
   "name": "python3"
  },
  "language_info": {
   "codemirror_mode": {
    "name": "ipython",
    "version": 3
   },
   "file_extension": ".py",
   "mimetype": "text/x-python",
   "name": "python",
   "nbconvert_exporter": "python",
   "pygments_lexer": "ipython3",
   "version": "3.9.4"
  }
 },
 "nbformat": 4,
 "nbformat_minor": 5
}
