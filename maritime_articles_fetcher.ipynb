{
 "cells": [
  {
   "cell_type": "markdown",
   "id": "9a9198be-27b7-4d26-8f97-8680872cc850",
   "metadata": {},
   "source": [
    "#### Maritime archive"
   ]
  },
  {
   "cell_type": "code",
   "execution_count": 1,
   "id": "b8885534-fe95-44ca-bf3d-13a371951c93",
   "metadata": {},
   "outputs": [],
   "source": [
    "import time\n",
    "import selenium\n",
    "from selenium import webdriver\n",
    "from selenium.webdriver.common.keys import Keys\n",
    "from selenium.webdriver.common.by import By\n",
    "from bs4 import BeautifulSoup"
   ]
  },
  {
   "cell_type": "code",
   "execution_count": 2,
   "id": "e66f203b-8999-485d-84df-693055db3b17",
   "metadata": {
    "tags": []
   },
   "outputs": [
    {
     "name": "stderr",
     "output_type": "stream",
     "text": [
      "/var/folders/pd/s7n6c2hd5056qk8k5tvyzv6r0000gn/T/ipykernel_90087/4120138358.py:1: DeprecationWarning: executable_path has been deprecated, please pass in a Service object\n",
      "  driver = webdriver.Chrome(executable_path='/opt/homebrew/bin/chromedriver')\n"
     ]
    }
   ],
   "source": [
    "driver = webdriver.Chrome(executable_path='/opt/homebrew/bin/chromedriver')\n",
    "driver.get('https://www.freightwaves.com/maritime')\n",
    "\n",
    "time.sleep(2)  # Allow 2 seconds for the web page to open\n",
    "scroll_pause_time = 1 # You can set your own pause time. My laptop is a bit slow so I use 1 sec\n",
    "screen_height = driver.execute_script(\"return window.screen.height;\")   # get the screen height of the web\n",
    "max_iteration = 10\n",
    "i = 5\n",
    "\n",
    "while True:\n",
    "    # scroll one screen height each time\n",
    "    driver.execute_script(\"window.scrollTo(0, {screen_height}*{i});\".format(screen_height=screen_height, i=i))  \n",
    "    i += 1\n",
    "    time.sleep(scroll_pause_time)\n",
    "    # update scroll height each time after scrolled, as the scroll height can change after we scrolled the page\n",
    "    scroll_height = driver.execute_script(\"return document.body.scrollHeight;\")  \n",
    "    # Break the loop when the height we need to scroll to is larger than the total scroll height\n",
    "    if (screen_height) * i > scroll_height:\n",
    "        break \n",
    "    if i > max_iteration:\n",
    "        break\n",
    "        \n",
    "soup = BeautifulSoup(driver.page_source, \"html.parser\")\n",
    "\n",
    "        \n",
    "driver.close()"
   ]
  },
  {
   "cell_type": "code",
   "execution_count": 3,
   "id": "0db28f56-4640-432e-91c9-abe615c4741a",
   "metadata": {},
   "outputs": [],
   "source": [
    "title = [x['aria-label'] for x in soup.select('.post-thumb')]"
   ]
  },
  {
   "cell_type": "code",
   "execution_count": 4,
   "id": "d1f893a9-f65b-45c3-a7bc-de9b5a7eb824",
   "metadata": {},
   "outputs": [],
   "source": [
    "dates = [x.text for x in soup.select('.date')]"
   ]
  },
  {
   "cell_type": "code",
   "execution_count": 5,
   "id": "a71dc532-0beb-4787-8b0a-eab932089216",
   "metadata": {},
   "outputs": [],
   "source": [
    "import pandas as pd\n",
    "\n",
    "df = pd.DataFrame(list(zip(title, dates)))\n",
    "df.to_csv('marine_time.csv')"
   ]
  },
  {
   "cell_type": "code",
   "execution_count": null,
   "id": "e84114a5-7e6a-498e-bf21-e802c7d46fd5",
   "metadata": {},
   "outputs": [],
   "source": []
  }
 ],
 "metadata": {
  "kernelspec": {
   "display_name": "Python 3 (ipykernel)",
   "language": "python",
   "name": "python3"
  },
  "language_info": {
   "codemirror_mode": {
    "name": "ipython",
    "version": 3
   },
   "file_extension": ".py",
   "mimetype": "text/x-python",
   "name": "python",
   "nbconvert_exporter": "python",
   "pygments_lexer": "ipython3",
   "version": "3.9.4"
  }
 },
 "nbformat": 4,
 "nbformat_minor": 5
}
